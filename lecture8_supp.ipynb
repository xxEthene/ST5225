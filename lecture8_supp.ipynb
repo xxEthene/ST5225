{
  "nbformat": 4,
  "nbformat_minor": 0,
  "metadata": {
    "colab": {
      "name": "Using graph-tool in Colaboratory",
      "provenance": [],
      "include_colab_link": true
    },
    "kernelspec": {
      "display_name": "Python 3",
      "name": "python3"
    }
  },
  "cells": [
    {
      "cell_type": "markdown",
      "metadata": {
        "id": "view-in-github",
        "colab_type": "text"
      },
      "source": [
        "<a href=\"https://colab.research.google.com/github/xxEthene/ST5225/blob/main/lecture8_supp.ipynb\" target=\"_parent\"><img src=\"https://colab.research.google.com/assets/colab-badge.svg\" alt=\"Open In Colab\"/></a>"
      ]
    },
    {
      "cell_type": "markdown",
      "metadata": {
        "id": "kDn_lVxg3Z2G"
      },
      "source": [
        "# Installing graph-tool (https://graph-tool.skewed.de)\n",
        "\n",
        "---\n",
        "\n",
        "\n",
        "To import a library that's not in Colaboratory by default, we can use [condacolab](https://github.com/conda-incubator/condacolab) to install packages from conda."
      ]
    },
    {
      "cell_type": "code",
      "source": [
        "!pip install -q condacolab\n",
        "import condacolab\n",
        "# Workaround issue with Python 3.12:\n",
        "# condacolab.install()\n",
        "condacolab.install_from_url(\"https://github.com/conda-forge/miniforge/releases/download/25.3.1-0/Miniforge3-Linux-x86_64.sh\")"
      ],
      "metadata": {
        "id": "jmRYQDL161hB",
        "outputId": "b0062df4-70d3-4551-db98-ebdcb8ae9dd3",
        "colab": {
          "base_uri": "https://localhost:8080/"
        }
      },
      "execution_count": 1,
      "outputs": [
        {
          "output_type": "stream",
          "name": "stdout",
          "text": [
            "⏬ Downloading https://github.com/conda-forge/miniforge/releases/download/25.3.1-0/Miniforge3-Linux-x86_64.sh...\n",
            "📦 Installing...\n",
            "📌 Adjusting configuration...\n",
            "🩹 Patching environment...\n",
            "⏲ Done in 0:00:12\n",
            "🔁 Restarting kernel...\n"
          ]
        }
      ]
    },
    {
      "cell_type": "markdown",
      "source": [
        "Now we can install conda packages, and we do so for graph-tool."
      ],
      "metadata": {
        "id": "rnC3Mzts8KMT"
      }
    },
    {
      "cell_type": "code",
      "source": [
        "!mamba install -q graph-tool"
      ],
      "metadata": {
        "id": "_sJaZ7uJ7NnW",
        "outputId": "9ab1b0c0-f610-4d39-a8af-6615cc3b980d",
        "colab": {
          "base_uri": "https://localhost:8080/"
        }
      },
      "execution_count": 1,
      "outputs": [
        {
          "output_type": "stream",
          "name": "stdout",
          "text": [
            "\u001b[33m\u001b[1mwarning  libmamba\u001b[m [xorg-xorgproto-2024.1-hb9d3cd8_1] The following files were already present in the environment:\n",
            "    - include/X11/extensions/EVI.h\n",
            "    - include/X11/extensions/EVIproto.h\n",
            "    - include/X11/extensions/ag.h\n",
            "    - include/X11/extensions/agproto.h\n",
            "    - include/X11/extensions/cup.h\n",
            "    - include/X11/extensions/cupproto.h\n",
            "    - include/X11/extensions/dbe.h\n",
            "    - include/X11/extensions/dbeproto.h\n",
            "    - include/X11/extensions/dpmsconst.h\n",
            "    - include/X11/extensions/dpmsproto.h\n",
            "    - include/X11/extensions/ge.h\n",
            "    - include/X11/extensions/geproto.h\n",
            "    - include/X11/extensions/lbx.h\n",
            "    - include/X11/extensions/lbxproto.h\n",
            "    - include/X11/extensions/mitmiscconst.h\n",
            "    - include/X11/extensions/mitmiscproto.h\n",
            "    - include/X11/extensions/multibufconst.h\n",
            "    - include/X11/extensions/multibufproto.h\n",
            "    - include/X11/extensions/secur.h\n",
            "    - include/X11/extensions/securproto.h\n",
            "    - include/X11/extensions/shapeconst.h\n",
            "    - include/X11/extensions/shapeproto.h\n",
            "    - include/X11/extensions/shapestr.h\n",
            "    - include/X11/extensions/shm.h\n",
            "    - include/X11/extensions/shmproto.h\n",
            "    - include/X11/extensions/shmstr.h\n",
            "    - include/X11/extensions/syncconst.h\n",
            "    - include/X11/extensions/syncproto.h\n",
            "    - include/X11/extensions/syncstr.h\n",
            "    - include/X11/extensions/xtestconst.h\n",
            "    - include/X11/extensions/xtestext1const.h\n",
            "    - include/X11/extensions/xtestext1proto.h\n",
            "    - include/X11/extensions/xtestproto.h\n",
            "\u001b[33m\u001b[1mwarning  libmamba\u001b[m [numpy-2.3.3-py312h33ff503_0] The following files were already present in the environment:\n",
            "    - bin/f2py\n",
            "    - bin/numpy-config\n",
            "\u001b[33m\u001b[1mwarning  libmamba\u001b[m [fonttools-4.60.0-py312h8a5da7c_0] The following files were already present in the environment:\n",
            "    - bin/fonttools\n",
            "    - bin/pyftmerge\n",
            "    - bin/pyftsubset\n",
            "    - bin/ttx\n",
            "    - share/man/man1/ttx.1\n",
            "\u001b[33m\u001b[1mwarning  libmamba\u001b[m [libgirepository-1.84.0-h61e2d6e_3] The following files were already present in the environment:\n",
            "    - lib/girepository-1.0/GIRepository-3.0.typelib\n",
            "    - lib/girepository-1.0/GLib-2.0.typelib\n",
            "    - lib/girepository-1.0/GLibUnix-2.0.typelib\n",
            "    - lib/girepository-1.0/GModule-2.0.typelib\n",
            "    - lib/girepository-1.0/GObject-2.0.typelib\n",
            "    - lib/girepository-1.0/Gio-2.0.typelib\n",
            "    - lib/girepository-1.0/GioUnix-2.0.typelib\n",
            "\u001b[33m\u001b[1mwarning  libmamba\u001b[m [pygobject-3.54.2-py312h39a1a5a_0] The following files were already present in the environment:\n",
            "    - include/pygobject-3.0/pygobject.h\n"
          ]
        }
      ]
    },
    {
      "cell_type": "code",
      "source": [
        "# Workaround issue with Python 3.12\n",
        "!mamba install -q scipy"
      ],
      "metadata": {
        "id": "c_505bnBVUVI"
      },
      "execution_count": 2,
      "outputs": []
    },
    {
      "cell_type": "markdown",
      "metadata": {
        "id": "iDu3Slhq2zyh"
      },
      "source": [
        "# Now we can use graph-tool as any other Python module\n",
        "\n",
        "(If a crash occurs at this stage, just run the notebook again... This is related to the kernel switch done by condacolab.)"
      ]
    },
    {
      "cell_type": "code",
      "metadata": {
        "id": "6km1lWMF2kAm"
      },
      "source": [
        "from graph_tool.all import *\n",
        "\n",
        "g = collection.data[\"celegansneural\"]\n",
        "state = minimize_nested_blockmodel_dl(g)"
      ],
      "execution_count": null,
      "outputs": []
    },
    {
      "cell_type": "markdown",
      "metadata": {
        "id": "apoRbfWsRZ7S"
      },
      "source": [
        "# Inline drawing works too!"
      ]
    },
    {
      "cell_type": "code",
      "metadata": {
        "id": "d_j7nNbKRmhx"
      },
      "source": [
        "state.draw()"
      ],
      "execution_count": null,
      "outputs": []
    }
  ]
}